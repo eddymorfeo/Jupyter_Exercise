{
 "cells": [
  {
   "cell_type": "markdown",
   "metadata": {},
   "source": [
    "<center>\n",
    "    <img src=\"https://cf-courses-data.s3.us.cloud-object-storage.appdomain.cloud/IBMDeveloperSkillsNetwork-DS0105EN-SkillsNetwork/labs/Module2/images/SN_web_lightmode.png\" width=\"300\" alt=\"cognitiveclass.ai logo\">\n",
    "</center>\n"
   ]
  },
  {
   "cell_type": "markdown",
   "metadata": {},
   "source": [
    "#### Add your code below following the instructions given in the course\n"
   ]
  },
  {
   "cell_type": "markdown",
   "metadata": {},
   "source": [
    "# FinalProject_OpenSourceToolsforDataScience"
   ]
  },
  {
   "cell_type": "markdown",
   "metadata": {},
   "source": [
    "# This notebook demonstrates the use of Markdown and code cells in Jupyter Notebook as part of the final project. It includes lists, tables, arithmetic expressions, and code snippets to showcase essential data science tools and skills.\n"
   ]
  },
  {
   "cell_type": "markdown",
   "metadata": {},
   "source": [
    "# ## Data Science Programming Languages\n",
    "\n",
    "1. Python  \n",
    "2. R  \n",
    "3. SQL  \n",
    "4. Scala  \n",
    "5. Julia"
   ]
  },
  {
   "cell_type": "markdown",
   "metadata": {},
   "source": [
    "# ## Data Science Libraries\n",
    "\n",
    "- NumPy  \n",
    "- Pandas  \n",
    "- Matplotlib  \n",
    "- Scikit-learn  \n",
    "- TensorFlow\n"
   ]
  },
  {
   "cell_type": "markdown",
   "metadata": {},
   "source": [
    "## Popular Data Science Tools\n",
    "\n",
    "| Tool              | Description                                 |\n",
    "|-------------------|---------------------------------------------|\n",
    "| Jupyter Notebook  | Interactive environment for code execution  |\n",
    "| RStudio           | IDE for R programming                       |\n",
    "| GitHub            | Version control and collaboration platform  |\n",
    "| VS Code           | Versatile source code editor                |\n"
   ]
  },
  {
   "cell_type": "markdown",
   "metadata": {},
   "source": [
    "## Example of an Arithmetic Expression\n",
    "\n",
    "The following expression represents the sum of two numbers:"
   ]
  },
  {
   "cell_type": "code",
   "execution_count": 7,
   "metadata": {},
   "outputs": [
    {
     "name": "stdout",
     "output_type": "stream",
     "text": [
      "The sum of  3 + 4 = 7\n"
     ]
    }
   ],
   "source": [
    "num1 = 3;\n",
    "num2 = 4;\n",
    "\n",
    "sum = num1 + num2;\n",
    "print(f'The sum of ',num1,'+',num2,'=',sum);"
   ]
  },
  {
   "cell_type": "code",
   "execution_count": 8,
   "metadata": {},
   "outputs": [
    {
     "name": "stdout",
     "output_type": "stream",
     "text": [
      "Sum: 8\n",
      "Product: 15\n"
     ]
    }
   ],
   "source": [
    "a = 5\n",
    "b = 3\n",
    "sum_result = a + b\n",
    "product_result = a * b\n",
    "print(\"Sum:\", sum_result)\n",
    "print(\"Product:\", product_result)"
   ]
  },
  {
   "cell_type": "code",
   "execution_count": 9,
   "metadata": {},
   "outputs": [
    {
     "name": "stdout",
     "output_type": "stream",
     "text": [
      "150 minutes is equal to 2.5 hours\n"
     ]
    }
   ],
   "source": [
    "minutes = 150\n",
    "hours = minutes / 60\n",
    "print(\"150 minutes is equal to\", hours, \"hours\")"
   ]
  },
  {
   "cell_type": "code",
   "execution_count": 10,
   "metadata": {},
   "outputs": [
    {
     "name": "stdout",
     "output_type": "stream",
     "text": [
      "- Learn to use Jupyter Notebook\n",
      "- Use Markdown to document code\n",
      "- Execute Python code in cells\n",
      "- Display results properly\n"
     ]
    }
   ],
   "source": [
    "goals = [\n",
    "    \"Learn to use Jupyter Notebook\",\n",
    "    \"Use Markdown to document code\",\n",
    "    \"Execute Python code in cells\",\n",
    "    \"Display results properly\"\n",
    "]\n",
    "for goal in goals:\n",
    "    print(\"-\", goal)\n"
   ]
  },
  {
   "cell_type": "markdown",
   "metadata": {},
   "source": [
    "**Notebook Name:** FinalProject_OpenSourceToolsforDataScience  \n",
    "**Author:** Edward Walter Tejeda Chavez"
   ]
  }
 ],
 "metadata": {
  "kernelspec": {
   "display_name": "Python 3 (ipykernel)",
   "language": "python",
   "name": "python3"
  },
  "language_info": {
   "codemirror_mode": {
    "name": "ipython",
    "version": 3
   },
   "file_extension": ".py",
   "mimetype": "text/x-python",
   "name": "python",
   "nbconvert_exporter": "python",
   "pygments_lexer": "ipython3",
   "version": "3.12.8"
  }
 },
 "nbformat": 4,
 "nbformat_minor": 4
}
